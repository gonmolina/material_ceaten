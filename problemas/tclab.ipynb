{
 "cells": [
  {
   "cell_type": "markdown",
   "id": "2d434b8d-3240-422b-ae85-a677985c0f31",
   "metadata": {},
   "source": [
    "# Descripción general del Laboratorio de control de tempratura BYU\n",
    "\n",
    "Este modelo representa el [Laboratorio de control de temperatura de BYU](http://apmonitor.com/pdc/index.php/Main/ArduinoTemperatureControl). El laboratorio de control de temperatura es una aplicación de control con un Arduino, un LED, dos calentadores y dos sensores de temperatura. La potencia de salida del calentador se ajusta para mantener una de las tempraturas en el valor deseado. La energía térmica del calentador se transfiere por conducción, convección y radiación al sensor de temperatura. El calor también se transfiere del dispositivo al entorno.\n",
    "\n",
    "```{figure} .\\tclab_device.png\n",
    ":name: tclab\n",
    ":alt: control de teperantura\n",
    ":width: 250\n",
    ":align: center\n",
    "\n",
    "Dispositivo de control de temperatura\n",
    "```\n",
    "\n"
   ]
  },
  {
   "cell_type": "markdown",
   "id": "771bda37-39f4-4ec3-ae54-63b30158e99b",
   "metadata": {},
   "source": [
    "Con este sistema el objetivo será controlar la temperatura en uno de los calentadores, que es midida mediante la señal $T1$. Para este propósito de control se utiliza la señal $Q1$. \n",
    "\n",
    "La señal $Q2$ no podrá ser utilizada por nuestro sitema de control, ya que es utilizada por otro lazo. \n",
    "\n",
    "Se tiene una segunda medición $T2$ que es la temperatura de un segundo calentador, pero que no nos interesa controlar.\n",
    "\n",
    "A continuación se implementa un modelo de este sistema en Python. Para esto primero importamos las herramientas de Python que utilizaremos."
   ]
  },
  {
   "cell_type": "code",
   "execution_count": 1,
   "id": "d0271ff2-d3c1-48f1-9a57-7c6983830bbc",
   "metadata": {},
   "outputs": [],
   "source": [
    "import control as ctrl\n",
    "import matplotlib.pyplot as plt\n",
    "import numpy as np"
   ]
  },
  {
   "cell_type": "markdown",
   "id": "7de8836c-8263-4a90-8d48-232bd858b1a2",
   "metadata": {},
   "source": [
    "Escribimos ahora las ecuaciones que gobiernan la dinámica del sistema"
   ]
  },
  {
   "cell_type": "code",
   "execution_count": 2,
   "id": "8412417a-f1e3-4cde-be22-bce1b188c100",
   "metadata": {},
   "outputs": [],
   "source": [
    "def derivs_tclab(t, x, u, params):\n",
    "    \"Las ecuaciones de las derivadads en las ecuaciones de estados\"\n",
    "    Q1 = u[0]\n",
    "    Q2 = u[1]\n",
    "    Ta=params.get('Ta', 19)\n",
    "    P1max=params.get('P1max', 100)\n",
    "    P2max=params.get('P2max', 200)\n",
    "    H1 = x[0]\n",
    "    H2 = x[1]\n",
    "    T1 = x[2]\n",
    "    T2 = x[3]\n",
    "    DeltaTaH1 = Ta - H1\n",
    "    DeltaTaH2 = Ta - H2\n",
    "    DeltaT12 = H1 - H2\n",
    "    dH1 = P1max * Q1 / 5720 + DeltaTaH1 / 20 - DeltaT12 / 100\n",
    "    dH2 = P2max * Q2 / 5720 + DeltaTaH2 / 20 + DeltaT12 / 100\n",
    "    dT1 =(H1 - T1)/140\n",
    "    dT2 = (H2 - T2)/140\n",
    "    return [dH1, dH2, dT1, dT2]\n",
    "\n",
    "\n",
    "def output_tclab(t, x, u, params):\n",
    "    \"Las ecuaciones de las salida\"\n",
    "    return [x[2], x[3]]"
   ]
  },
  {
   "cell_type": "markdown",
   "id": "e6947582-f212-46da-b6cc-38518cd36935",
   "metadata": {},
   "source": [
    "Con estas ecuaciones implementamos en Python el modelo no lienal del sistema."
   ]
  },
  {
   "cell_type": "code",
   "execution_count": 3,
   "id": "13bb3071-230d-436c-a869-6474dcbe9295",
   "metadata": {},
   "outputs": [],
   "source": [
    "tclab_sys = ctrl.NonlinearIOSystem(updfcn=derivs_tclab, \n",
    "                                  outfcn=output_tclab, \n",
    "                                  inputs=('Q1', 'Q2'), \n",
    "                                  outputs=('T1', 'T2'), \n",
    "                                  states=['H1', 'H2', 'T1', 'T2'], \n",
    "                                  name='susp')"
   ]
  },
  {
   "cell_type": "markdown",
   "id": "cc1141f6-4a1d-4e3c-92d7-31b2362d2311",
   "metadata": {},
   "source": [
    "Ahora vamos a definir el vector de entradas $U$, contiene las entradas $T1$ y $T2$ para cada instante definido en un vector $T$."
   ]
  },
  {
   "cell_type": "code",
   "execution_count": 4,
   "id": "e13b503b-90c3-44bc-acee-196ca0859e1b",
   "metadata": {},
   "outputs": [],
   "source": [
    "T=np.linspace(0,2000, 2000)\n",
    "def Usignal(T):\n",
    "    U = np.zeros((2, len(T)))\n",
    "    for i, t in enumerate(T):\n",
    "        U[0,i] = 50 if t > 400 and t < 1600 else  0\n",
    "        U[1,i] = 50 if t > 1200 else  0\n",
    "        \n",
    "    return U\n",
    "\n",
    "U=Usignal(T)"
   ]
  },
  {
   "cell_type": "markdown",
   "id": "e70aec28-2b1a-4e21-8869-9b826d7490d5",
   "metadata": {},
   "source": [
    "Grafico las señales $Q1$ y $Q2$"
   ]
  },
  {
   "cell_type": "code",
   "execution_count": 5,
   "id": "792099a5-850d-49e0-a470-07b7d81bdb3b",
   "metadata": {},
   "outputs": [
    {
     "data": {
      "image/png": "[encoded data removed]",
      "text/plain": [
       "<Figure size 864x360 with 1 Axes>"
      ]
     },
     "metadata": {
      "needs_background": "light"
     },
     "output_type": "display_data"
    }
   ],
   "source": [
    "fig, ax = plt.subplots(figsize=(12,5))\n",
    "ax.plot(T, U[0,:], label=r'$Q1$')\n",
    "ax.plot(T, U[1,:], label=r'$Q2$')\n",
    "ax.set_xlabel('Tiempo [s]')\n",
    "ax.set_ylabel('Potencia en % pot Max ')\n",
    "ax.legend();"
   ]
  },
  {
   "cell_type": "markdown",
   "id": "19cc7dbd-9cf2-4bf2-970f-95807c187c46",
   "metadata": {},
   "source": [
    "Ahora simularemos la respuesta al sistema a esas dos entradas. Consideraremos que todas las temperaturas del sistema están en equilibrio con la temperatura ambiente (19 grados)"
   ]
  },
  {
   "cell_type": "code",
   "execution_count": 6,
   "id": "aadaa1bf-280d-4942-94c5-0bf4aafefbc7",
   "metadata": {},
   "outputs": [],
   "source": [
    "X0 = [19,19, 19, 19]\n",
    "t,y = ctrl.input_output_response(tclab_sys, T, U, X0)"
   ]
  },
  {
   "cell_type": "markdown",
   "id": "a50b0ca3-bb94-4771-bc9d-afc80d62428e",
   "metadata": {},
   "source": [
    "En $y$ y en $t$ ahora están los valores que toman la salida $y(t) = [T1(t), T2(t)]$, para distintos valores de $t$."
   ]
  },
  {
   "cell_type": "markdown",
   "id": "ce84eb51-ceff-4efd-a2d3-2902eba17832",
   "metadata": {},
   "source": [
    "## Práctico 1"
   ]
  },
  {
   "cell_type": "markdown",
   "id": "76b75ef1-8459-49e4-8e2d-c9fc71353515",
   "metadata": {},
   "source": [
    "1. Hacer un diagrama del bloque del laboratorio de temperatura donde se vean cuales son las entradas y las salidas. De las entradas diferenciar cuales son perturbaciones y cuales son variables manipuladas.\n",
    "1. Viendo la grafica de las entradas anterior, analizar:\n",
    "    - cuando entran la perturabación y de que dimensión\n",
    "    - cuando entra la señal de control y de que dimensión es y como afecta\n",
    "    \n",
    "1. Graficar la salida $y$ obtenida de la simulación del sistema. Analizar la respuesta. \n",
    "    - analizar como varian las salidas condierando la gráficas de $T1$ y $T2$\n",
    "    - es correcto usar $Q1$ para controlar $T1$ o es mejor usar $Q2$ para tal fin\n",
    "\n",
    "Ayuda: \n",
    "- Utilizar como referencia el código de las gráficas de $U$ para hacer la gráfica de $y$\n",
    "- con `y.shape` y `t.shape` obtenemos la \"forma\" de la señal. Por ejemplo, al señal $U$ de la figura anterior tiene `(2, 2000)`, es decir, 2 filas (una para $u$ y otra para $w$) y 2000 columnas (una para cada instante simulado).\n",
    "- para hacer el diagrama de bloques usar como referencia el apunte de introducción a señales y sistemas.\n"
   ]
  },
  {
   "cell_type": "code",
   "execution_count": null,
   "id": "bbef4014-2dc1-40fd-972a-70441e2233bd",
   "metadata": {},
   "outputs": [],
   "source": []
  }
 ],
 "metadata": {
  "jupytext": {
   "formats": "ipynb,md:myst"
  },
  "kernelspec": {
   "display_name": "Python 3 (ipykernel)",
   "language": "python",
   "name": "python3"
  },
  "language_info": {
   "codemirror_mode": {
    "name": "ipython",
    "version": 3
   },
   "file_extension": ".py",
   "mimetype": "text/x-python",
   "name": "python",
   "nbconvert_exporter": "python",
   "pygments_lexer": "ipython3",
   "version": "3.10.2"
  }
 },
 "nbformat": 4,
 "nbformat_minor": 5
}
