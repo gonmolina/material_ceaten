{
 "cells": [
  {
   "cell_type": "markdown",
   "id": "746571c4-7230-45e7-aacd-5e7e65b40bdc",
   "metadata": {},
   "source": [
    "# Sistema CSTR\n",
    "\n",
    "Este cuaderno se estudia el sistema discutido en Seborg, Edgar, Melichamp & Doyle \"Process Dynamics and Control\" (3rd Ed).\n",
    "\n",
    "```{figure} cstr.png\n",
    ":name: cstr\n",
    ":width: 400px\n",
    ":alt: cstr\n",
    ":align: center\n",
    "\n",
    "Reactor continuo de tanque agitado\n",
    "```"
   ]
  },
  {
   "cell_type": "markdown",
   "id": "6a619626-714c-40a0-833d-6e7dff6de9bc",
   "metadata": {},
   "source": [
    "## Modelo\n",
    "\n",
    "$$\n",
    "\\begin{align}\n",
    "k &= k_0\\exp\\left(\\frac{-E}{RT}\\right)\\\\\n",
    "w &=q\\rho \\\\\n",
    "V\\frac{\\mathrm{d}c_A}{\\mathrm{d}t} &= q(c_{Ai} - c_A) - V k c_A \\\\\n",
    "V\\rho C\\frac{\\mathrm{d}T}{\\mathrm{d}t} &= wC(T_i - T) + (-\\Delta H_R) V k c_A + UA(T_c - T)qc\n",
    "\\end{align}\n",
    "$$"
   ]
  },
  {
   "cell_type": "markdown",
   "id": "39d7e181-c00e-4147-b52c-a99818408e12",
   "metadata": {},
   "source": [
    "Balance de Energía:\n",
    "\n",
    "$$\\frac{dE}{dt} = E_{in} - E_{out}$$\n",
    "\n",
    "Balance de Masa:\n",
    "\n",
    "$$\\frac{dm}{dt} = \\dot m_{in} - \\dot m_{out}$$\n",
    "\n",
    "Balance de composición:\n",
    "\n",
    "$$\\frac{dN_A}{dt} = N_{A,in} - N_{A, out} + N_{A, \\text{gen}} - N_{A, \\text{consumed}}$$"
   ]
  },
  {
   "cell_type": "markdown",
   "id": "98286a0b-57d6-4453-a48d-a13225619252",
   "metadata": {},
   "source": [
    "### Descripción\n",
    "\n",
    "El modelo dinámico del sistema anterior se módifico levenmente para que se manipule el caudal de entrada de refrigerante y no la temperatura como figura en el diagrama. \n",
    "\n",
    "El objetivo de conrol de esta planta es lograr mantener la temperatura constante de la reacción a pesar de los cambios en la composición de caudal de entrada al reactor."
   ]
  },
  {
   "cell_type": "code",
   "execution_count": 4,
   "id": "d660cfce-4d42-4df6-a610-7d07e06d2a9d",
   "metadata": {},
   "outputs": [],
   "source": [
    "import control as ctrl\n",
    "import numpy as np\n",
    "import matplotlib.pyplot as plt"
   ]
  },
  {
   "cell_type": "code",
   "execution_count": 5,
   "id": "be5c0372-a648-4b73-9bf1-23e142c4aac1",
   "metadata": {},
   "outputs": [],
   "source": [
    "cA0 = 0.5  # mol/L\n",
    "T0 = 350  # K "
   ]
  },
  {
   "cell_type": "code",
   "execution_count": 6,
   "id": "d5d5d000-7538-4d7e-8689-ca29e7dc8991",
   "metadata": {},
   "outputs": [],
   "source": [
    "def derivs_CSTR(t, x, u, params):\n",
    "    \n",
    "    q = params.get('q', 100)   # L/min \n",
    "    # cA_i = params.get('cAi', 1)  # mol/L\n",
    "    T_i = params.get('T_i', 350)  # K \n",
    "    V = params.get('V', 100)  # L\n",
    "    rho = params.get('rho', 1000) # g/L\n",
    "    C = params.get('C', 0.239) # J/(g K)\n",
    "    Hr = params.get('Hr', -5e4)  # J/(g K)\n",
    "    E_over_R = params.get('E_over_R', 8750)  # K\n",
    "    k0 = params.get('ko', 7.2e10)   # 1/min\n",
    "    UA = params.get('UA', 5e2)  # J/(L K)\n",
    "    Tc = params.get('Tc', 300)  # K\n",
    "    \n",
    "    qc, cA_i= u \n",
    "    cA, T = x\n",
    "    \n",
    "    k = k0*np.exp(-E_over_R/T)\n",
    "    w = q*rho\n",
    "    dcAdt = q*(cA_i - cA)/V - k*cA\n",
    "    dTdt = 1/(V*rho*C)*(w*C*(T_i - T) - Hr*V*k*cA + UA*(Tc - T)*qc)\n",
    "    return dcAdt, dTdt\n",
    "\n",
    "def outputs_CSTR(t, x, u, params):\n",
    "    return x[0], x[1]\n",
    "    \n"
   ]
  },
  {
   "cell_type": "code",
   "execution_count": 7,
   "id": "a082f6ee-bf6a-44d8-b1c0-27bf18c928f0",
   "metadata": {},
   "outputs": [],
   "source": [
    "CSTR_sys=ctrl.NonlinearIOSystem(derivs_CSTR, \n",
    "                                outputs_CSTR, \n",
    "                                inputs=('Tc', 'CA_i'), \n",
    "                                outputs=('cA', 'T'), \n",
    "                                states=('dcA', 'dT'))"
   ]
  },
  {
   "cell_type": "code",
   "execution_count": 57,
   "id": "2a98b588-fd00-490b-908b-7318373e0a2a",
   "metadata": {},
   "outputs": [],
   "source": [
    "T = np.linspace(0, 10, 3000)\n",
    "x0 = [cA0, T0]\n",
    "\n",
    "def Usignal(T):\n",
    "    U = np.zeros((2, len(T)))\n",
    "    for i, t in enumerate(T):\n",
    "        U[0,i] = 105 if t>1 else 100 \n",
    "        U[1,i] = 1 if t >1 else 1\n",
    "        \n",
    "    return U\n",
    "\n",
    "U=Usignal(T)"
   ]
  },
  {
   "cell_type": "code",
   "execution_count": 58,
   "id": "86e29402-4f4d-460e-81ad-13acd2d3ed39",
   "metadata": {},
   "outputs": [],
   "source": [
    "t,y = ctrl.input_output_response(CSTR_sys, T, U, x0)"
   ]
  },
  {
   "cell_type": "code",
   "execution_count": 59,
   "id": "1ffb4887-3dfb-4ae4-8305-3c350f1cb095",
   "metadata": {},
   "outputs": [
    {
     "data": {
      "text/plain": [
       "[<matplotlib.lines.Line2D at 0x20bf1feb1f0>]"
      ]
     },
     "execution_count": 59,
     "metadata": {},
     "output_type": "execute_result"
    },
    {
     "data": {
      "image/png": "[encoded data removed]",
      "text/plain": [
       "<Figure size 432x288 with 1 Axes>"
      ]
     },
     "metadata": {
      "needs_background": "light"
     },
     "output_type": "display_data"
    }
   ],
   "source": [
    "plt.plot(t,y[0,:])"
   ]
  },
  {
   "cell_type": "code",
   "execution_count": null,
   "id": "61792eeb-8d0c-4611-8c34-e43b75790831",
   "metadata": {},
   "outputs": [],
   "source": []
  },
  {
   "cell_type": "code",
   "execution_count": null,
   "id": "938e6cc8-fe4d-45aa-a336-1c07f9cd57cc",
   "metadata": {},
   "outputs": [],
   "source": []
  }
 ],
 "metadata": {
  "kernelspec": {
   "display_name": "Python 3 (ipykernel)",
   "language": "python",
   "name": "python3"
  },
  "language_info": {
   "codemirror_mode": {
    "name": "ipython",
    "version": 3
   },
   "file_extension": ".py",
   "mimetype": "text/x-python",
   "name": "python",
   "nbconvert_exporter": "python",
   "pygments_lexer": "ipython3",
   "version": "3.10.2"
  }
 },
 "nbformat": 4,
 "nbformat_minor": 5
}
