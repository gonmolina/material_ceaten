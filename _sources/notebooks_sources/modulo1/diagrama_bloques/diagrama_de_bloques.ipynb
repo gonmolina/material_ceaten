{
 "cells": [
  {
   "cell_type": "markdown",
   "id": "3918e22f",
   "metadata": {},
   "source": [
    "# Diagramas de bloques"
   ]
  },
  {
   "cell_type": "markdown",
   "id": "047e5653",
   "metadata": {},
   "source": [
    "## Diagrama de bloques: concepto\n",
    "\n",
    "Una forma esquemática de representar los sistemas de control es a través de los diagramas de bloques. En dicho diagrama identificamos los principales componentes como bloques, omitiendo detalles y mostrando la dirección principal de la información y la relación de causalidad entre componente y otro.\n",
    "\n",
    "En la siguiente figura podemos ver el diagrama de bloques genérico del sistema de control realimentado.\n",
    "\n",
    "\n",
    "```{figure} fig1.png\n",
    ":name: diagrama-general\n",
    ":alt: Diagrama de control general de sistema controlado\n",
    ":width: 60%\n",
    ":align: center\n",
    "\n",
    "Diagrama de control general de sistema controlado\n",
    "```\n",
    "\n",
    "Decimos que este sistema está realimentado, por que podemos ver que usamos la salida, que para este caso en particular es la medición de temperatura, para calcular y/o modificar la entrada al sistema. En este diagrama de bloques el resultado del sensor de salida se compara, mediante una resta con el sensor de la referencia."
   ]
  },
  {
   "cell_type": "markdown",
   "id": "d974c2c6",
   "metadata": {},
   "source": [
    "### Ejemplo de sistema de control representado por diagrama de bloques\n",
    "\n",
    "Sn la siguiente figura mostramos como ejemplo de diagrama de bloques el sistema de control de una caldera controlado por un termostato.\n",
    "\n",
    "\n",
    "```{figure} fig2.png\n",
    ":name: control_general\n",
    ":alt: Sistema de control general\n",
    ":width: 80%\n",
    ":align: center\n",
    "\n",
    "Diagrama de control de temperatura\n",
    "```"
   ]
  },
  {
   "cell_type": "markdown",
   "id": "0b609633",
   "metadata": {},
   "source": [
    "## Diagramas de bloques como representación matemática\n",
    "\n",
    "Los diagramas de bloques, no solo pueden ser conceptuales, sino que también pueden ser usados para representar matemáticamente los sistemas.\n",
    "\n",
    "En un diagrama de bloques cada bloque del diagrama representa matemáticamente una parte del sistema, y las lineas son las señales de entrada y de salida de cada una de las partes del sistema. Así el sistema es dividido en subsistemas más pequeños y fáciles de resolver."
   ]
  },
  {
   "cell_type": "markdown",
   "id": "f2138870",
   "metadata": {},
   "source": [
    "## Reducción de los diagramas de bloques usando algebra de bloques\n",
    "\n",
    "Podemos encontrar diversos sistemas de control, representados con diagramas de bloques complejos. Dichos diagramas los podemos reducir a un simple bloque empleando las reglas del algebra de bloques.\n",
    "\n",
    "A continuación demostraremos estas reglas mediante operaciones algebraicas."
   ]
  },
  {
   "cell_type": "markdown",
   "id": "b5f58cb8",
   "metadata": {},
   "source": [
    "### Bloques en serie\n",
    "\n",
    "```{figure} fig3.png\n",
    ":name: bloques-serie\n",
    ":alt: BLoques en serie\n",
    ":align: center\n",
    "\n",
    "Bloques en serie\n",
    "```\n",
    "\n",
    "$$ G(s) = \\frac{Y(s)}{U(s)} = \\frac{G2(s).X(s)}{U(s)} = \\frac{G2(s).(G1(s).U(s))}{U(s)} = {G1(s).G2(s)} $$"
   ]
  },
  {
   "cell_type": "markdown",
   "id": "a26eb407",
   "metadata": {},
   "source": [
    "### Bloques en paralelo\n",
    "\n",
    "\n",
    "```{figure} fig4.png\n",
    ":name: bloques-paralelo\n",
    ":alt: Bloques en paralelo\n",
    ":align: center\n",
    "\n",
    "Bloques en serie\n",
    "```\n",
    "\n",
    "$$ G = \\frac{Y(s)}{U(s)} = \\frac{X1(s)+X2(s)}{U(s)} = \\frac{G1(s).U(s)+G2(s).U(s)}{U(s)} = \\frac{(G1(s)+G2(s)).U(s)}{U(s)} = G1(s) + G2(s) $$"
   ]
  },
  {
   "cell_type": "markdown",
   "id": "f4a51345",
   "metadata": {},
   "source": [
    "### Sistema realimentado\n",
    "\n",
    "$$X1(s)  = U(s) - X2(s) = U(s) - Y(s).G2(s) $$\n",
    "\n",
    "$$Y(s) = X1(s).G1(s) = \\left(U(s) - Y(s).G2(s)\\right).G1(s) = U(s).G1(s) - Y(s).G2(s).G1(s)$$\n",
    "\n",
    "$$Y.(1+G1(s).G2(s)) = U(s).G1(s)$$\n",
    "\n",
    "$$G = \\frac{Y(s)}{U(s)} =\\frac{G1(s)}{(1+G1(s).G2(s))}$$\n",
    "\n",
    "\n",
    "```{figure} fig5.png\n",
    ":name: bloques-realimentados\n",
    ":alt: Bloques realimentados\n",
    ":align: center\n",
    "\n",
    "Bloques realimentados\n",
    "```"
   ]
  },
  {
   "cell_type": "markdown",
   "id": "0aa87d95",
   "metadata": {},
   "source": [
    "### Otras transformaciones útiles en el algebra de diagramas de bloque\n",
    "\n",
    "```{figure} fig6.png\n",
    ":name: transformaciones-utiles\n",
    ":alt: transformaciones útiles\n",
    ":align: center\n",
    "\n",
    "Transformaciones útiles\n",
    "```"
   ]
  },
  {
   "cell_type": "markdown",
   "id": "01d7f2c7",
   "metadata": {},
   "source": [
    "### Ejemplo de diagrama de bloques"
   ]
  },
  {
   "cell_type": "markdown",
   "id": "88968ac0",
   "metadata": {},
   "source": [
    "Tenemos el diagrama de bloques de la figura, el cual queremos reducir.\n",
    "\n",
    "```{figure} fig7.png\n",
    ":name: ejemplo1\n",
    ":alt: ejemplo\n",
    ":align: center\n",
    "\n",
    "Ejemplo de simplificación de diagrama de bloques\n",
    "```"
   ]
  },
  {
   "cell_type": "markdown",
   "id": "6b150de1",
   "metadata": {},
   "source": [
    "#### Resolución a mano"
   ]
  },
  {
   "cell_type": "markdown",
   "id": "d6d0842a",
   "metadata": {},
   "source": [
    "En las siguientes dos figuras mostramos dos reducciones sucesivas al diagrama del ejemplo.\n",
    "\n",
    "```{figure} fig8.png\n",
    ":name: primer-paso\n",
    ":alt: primer-paso\n",
    ":align: center\n",
    "\n",
    "Primer paso de simplificación\n",
    "```"
   ]
  },
  {
   "cell_type": "markdown",
   "id": "e26840b9",
   "metadata": {},
   "source": [
    "```{figure} fig9.png\n",
    ":name: segundo-paso\n",
    ":alt: segundo-paso\n",
    ":align: center\n",
    "\n",
    "Segundo paso de simplificación\n",
    "```"
   ]
  },
  {
   "cell_type": "markdown",
   "id": "83c4a2a5",
   "metadata": {},
   "source": [
    "Finalmente, en la siguiente figura obtenemos la función de transferencia $G(s) = \\dfrac{Y(s)}{R(s)}$:\n",
    "\n",
    "$$ G(s) = \\dfrac{Y(s)}{R(s)}=\\dfrac{\\dfrac{G_1.G_2}{1-G_1.G_3}}{1+\\dfrac{G_1G_2G_4}{1-G_1G_3}}\\left(G_5+\\frac{G_6}{G_2}\\right)$$\n",
    "\n",
    "$$ G(s)=\\dfrac{G_1G_2G_5+G_1G_6}{1-G_1G_3+G_1G_2G_4} $$"
   ]
  }
 ],
 "metadata": {
  "jupytext": {
   "formats": "ipynb,md:myst",
   "text_representation": {
    "extension": ".md",
    "format_name": "myst",
    "format_version": 0.13,
    "jupytext_version": "1.13.7"
   }
  },
  "kernelspec": {
   "display_name": "Python 3 (ipykernel)",
   "language": "python",
   "name": "python3"
  },
  "language_info": {
   "codemirror_mode": {
    "name": "ipython",
    "version": 3
   },
   "file_extension": ".py",
   "mimetype": "text/x-python",
   "name": "python",
   "nbconvert_exporter": "python",
   "pygments_lexer": "ipython3",
   "version": "3.10.2"
  },
  "source_map": [
   13,
   17,
   37,
   53,
   61,
   69,
   83,
   98,
   119,
   131,
   135,
   147,
   151,
   163,
   174
  ]
 },
 "nbformat": 4,
 "nbformat_minor": 5
}