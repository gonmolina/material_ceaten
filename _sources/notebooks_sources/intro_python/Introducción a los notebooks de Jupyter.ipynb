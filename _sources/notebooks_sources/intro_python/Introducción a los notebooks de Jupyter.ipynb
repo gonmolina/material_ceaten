{
 "cells": [
  {
   "cell_type": "markdown",
   "id": "fbb7386a",
   "metadata": {},
   "source": [
    "# Introducción a los cuadernos de Jupyter\n",
    "\n",
    "Estaremos utilizando Python a través de una interfaz conveniente\n",
    "que son los [Jupyter Notebook](http://jupyter.org/).\n",
    "En particular, a este cuaderno lo puede estar visualizando a través de una pagina web de Gitlab, o de un servidor propio que le brinda una aplicación donde puede realizar cambios al cuaderno y evaluarlo a su gusto. En caso de estar visualizandolo en la web, puede descargarlo haciendo click en icono de descarga ubicado arriba a la derecha\n",
    "y seleccionando el formato `ipynb`. También se puede ejecutar desde la web,\n",
    "usando *binder*, haciendo click donde se encuentra el cohete. Los archivos\n",
    "con la extensión `.ipynb` son cuadernos de jupyter o jupyter notebooks."
   ]
  },
  {
   "cell_type": "markdown",
   "id": "627d2a79",
   "metadata": {},
   "source": [
    "Existen varias alternativas para visualizar los cuadernos de Jupyter. Paso a\n",
    "describir las más utilizadas:\n",
    "\n",
    "- Jupyter Notebook: se encuentra instalada con el software recomendado para\n",
    "la materia y consiste en una página web, que es servida por nuestra propia\n",
    "computadora. Es relativamente liviana en cuanto a recursos computacionales y\n",
    "con esta se pueden ver, ejecutar y editar los cuadernos\n",
    "\n",
    "- Jupyter Lab: es similar a la anterior, también se encuentra pre instalada\n",
    "con el software recomendado para la materia, pero cuenta con algunas\n",
    "funcionalidades extra como explorador de variables, ayuda contextual,\n",
    "explorador de archivos, y otras funcionalidades instalables a través de\n",
    "plugins. **Esta es la forma recomendada por la cátedra para acceder a los\n",
    "cuadernos**.\n",
    "\n",
    "- Visual Studio Code: es un software gratuito de microsoft, que con un\n",
    "plugin (Python es el nombre del mismo) soporta todo lo referente a los cuadernos.\n",
    "Si bien utiliza jupyter para mostrar los cuadernos, provee una interface propia.\n",
    "Es recomendable para personas que están habituadas a programar o que quieran además\n",
    "de utilizar los cuadernos, escribir programas en Python o cualquier otro lenguaje en\n",
    "un mismo entorno. La principal desventaja es que suele ser algo complejo de configurar.\n",
    "Sin embargo cuenta con una gran documentación en la web. Se puede descarga\n",
    "[aquí](https://code.visualstudio.com/)."
   ]
  },
  {
   "cell_type": "markdown",
   "id": "e0d13a7b",
   "metadata": {},
   "source": [
    "## Un recorrido rápido\n",
    "\n",
    "Tómese un segundo para recorrer la interfaz del cuaderno con el software que\n",
    "haya elegido para visualizarlo y editarlo. Haga doble click sobre las celdas\n",
    "y mire el código fuente de cada una. Trate de entender la forma es que se\n",
    "escriben los títulos, que se definen las ecuaciones y como es diferencia una\n",
    "celda donde se va escribir código y una donde se escribe texto o ecuaciones\n",
    "matemáticas.\n",
    "\n",
    "Ahora que está familiarizado con la nomenclatura, ¡ejecutemos algo de código!\n",
    "\n",
    "*Evalúe la celda a continuación para imprimir por pantalla el mensaje\n",
    "\"Hello World\" haciendo clic dentro de la celda y luego presionando\n",
    "Shift + Enter*"
   ]
  },
  {
   "cell_type": "code",
   "execution_count": 1,
   "id": "4dfedb84",
   "metadata": {},
   "outputs": [
    {
     "name": "stdout",
     "output_type": "stream",
     "text": [
      "Hello\n",
      "World\n"
     ]
    }
   ],
   "source": [
    "for word in ['Hello', 'World']:\n",
    "    print(word)"
   ]
  },
  {
   "cell_type": "code",
   "execution_count": 2,
   "id": "a126045d",
   "metadata": {},
   "outputs": [
    {
     "data": {
      "text/plain": [
       "1"
      ]
     },
     "execution_count": 2,
     "metadata": {},
     "output_type": "execute_result"
    }
   ],
   "source": [
    "a = 1\n",
    "a"
   ]
  },
  {
   "cell_type": "markdown",
   "id": "d31e4f7c",
   "metadata": {
    "lang": "es"
   },
   "source": [
    "### Matemáticas en cuadros de texto\n",
    "\n",
    "El editor de texto admite matemáticas en notación [$\\LaTeX$](latex). Puede\n",
    "hacer doble clic en un cuadro de texto para ver los códigos utilizados para\n",
    "ingresarlo:\n",
    "\n",
    "$$f(a)=\\int^{a=\\infty}_{a=0} \\frac{1}{a+2} \\mathrm{d}a$$\n",
    "\n",
    "Haga doble clic en la fórmula anterior para ver el código que la produjo."
   ]
  },
  {
   "cell_type": "markdown",
   "id": "ca504144",
   "metadata": {},
   "source": [
    "Aprovechemos lo aprendido para introducirnos en el mundo de programación\n",
    "científica con Python.\n",
    "\n",
    "Los siguientes secciones de la introducción son a nivel informátivo. No es necesario\n",
    "estudiarlo en esta materia, pero puede ser útil utilizarlo como material de consulta\n",
    "para resolver problemas comunes de la materia así como también de otras disciplinas\n",
    "científicas/ingenieriles."
   ]
  },
  {
   "cell_type": "code",
   "execution_count": null,
   "id": "e40d69c8",
   "metadata": {},
   "outputs": [],
   "source": []
  }
 ],
 "metadata": {
  "jupytext": {
   "encoding": "# -*- coding: utf-8 -*-",
   "formats": "ipynb,md:myst",
   "text_representation": {
    "extension": ".md",
    "format_name": "myst",
    "format_version": 0.13,
    "jupytext_version": "1.13.7"
   }
  },
  "kernelspec": {
   "display_name": "Python 3 (ipykernel)",
   "language": "python",
   "name": "python3"
  },
  "language_info": {
   "codemirror_mode": {
    "name": "ipython",
    "version": 3
   },
   "file_extension": ".py",
   "mimetype": "text/x-python",
   "name": "python",
   "nbconvert_exporter": "python",
   "pygments_lexer": "ipython3",
   "version": "3.10.2"
  },
  "source_map": [
   14,
   25,
   51,
   68,
   73,
   78,
   90,
   100
  ]
 },
 "nbformat": 4,
 "nbformat_minor": 5
}