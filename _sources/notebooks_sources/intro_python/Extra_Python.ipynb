{
 "cells": [
  {
   "cell_type": "markdown",
   "id": "d35367f3",
   "metadata": {},
   "source": [
    "# Introducción a Python\n",
    "\n",
    "Este cuaderno usará Python como lenguaje de programación. Esto significa que la mayor parte de lo aprendido en este curso puede ser desarrollado y aplicado en cuadernos. Los cuadernos se dividen en celdas donde se puede poner código y luego correrlo haciendo **Mayúscula + Enter**.\n",
    "\n",
    "Aquí intenta ase intentará mostrarles algunos de los tipo de datos más comunes de\n",
    "Python con el fin de comenzar a interiorizarnos tanto con el lenguaje como con los\n",
    "cuadernos de de Jupyter."
   ]
  },
  {
   "cell_type": "markdown",
   "id": "410c01df",
   "metadata": {},
   "source": [
    "## Números\n",
    "\n",
    "Python cuenta con varios formatos o tipos de datos para representar números.\n",
    "\n",
    "### Enteros\n",
    "\n",
    "Cuando una nueva variable numérica se define Python por defecto lo hace como\n",
    "entero. Por ejemplo:"
   ]
  },
  {
   "cell_type": "code",
   "execution_count": 1,
   "id": "0f84a363",
   "metadata": {},
   "outputs": [
    {
     "data": {
      "text/plain": [
       "int"
      ]
     },
     "execution_count": 1,
     "metadata": {},
     "output_type": "execute_result"
    }
   ],
   "source": [
    "num = 1\n",
    "type(num)"
   ]
  },
  {
   "cell_type": "markdown",
   "id": "d118e881",
   "metadata": {},
   "source": [
    "### Punto flotante\n",
    "\n",
    "En caso de necesitar números con decimales que no pueden ser representados\n",
    "mediante enteros, Python automáticamente los transforma en números punto\n",
    "flotantes, o `float`:"
   ]
  },
  {
   "cell_type": "code",
   "execution_count": 2,
   "id": "37ee3b84",
   "metadata": {},
   "outputs": [
    {
     "data": {
      "text/plain": [
       "float"
      ]
     },
     "execution_count": 2,
     "metadata": {},
     "output_type": "execute_result"
    }
   ],
   "source": [
    "num = 1.1\n",
    "type(num)"
   ]
  },
  {
   "cell_type": "markdown",
   "id": "a306700f",
   "metadata": {},
   "source": [
    "En caso de necesitar que un número entero sea representado como un flotante,\n",
    "se puede resolver agregando un punto detrás de entero, por ejemplo:"
   ]
  },
  {
   "cell_type": "code",
   "execution_count": 3,
   "id": "8d6d8c15",
   "metadata": {},
   "outputs": [
    {
     "data": {
      "text/plain": [
       "float"
      ]
     },
     "execution_count": 3,
     "metadata": {},
     "output_type": "execute_result"
    }
   ],
   "source": [
    "num = 1.\n",
    "type(num)"
   ]
  },
  {
   "cell_type": "markdown",
   "id": "c4cfa006",
   "metadata": {},
   "source": [
    "Otra forma de hacerlo, mucho menos común es:"
   ]
  },
  {
   "cell_type": "code",
   "execution_count": 4,
   "id": "5c65fa28",
   "metadata": {},
   "outputs": [
    {
     "data": {
      "text/plain": [
       "float"
      ]
     },
     "execution_count": 4,
     "metadata": {},
     "output_type": "execute_result"
    }
   ],
   "source": [
    "num = float(1)\n",
    "type(num)"
   ]
  },
  {
   "cell_type": "markdown",
   "id": "fa19cc9a",
   "metadata": {},
   "source": [
    "### Números complejos\n",
    "\n",
    "Python tiene soporte nativo para números complejos usando la letra `j` de la\n",
    "siguiente manera:"
   ]
  },
  {
   "cell_type": "code",
   "execution_count": 5,
   "id": "9c56b0e9",
   "metadata": {},
   "outputs": [
    {
     "name": "stdout",
     "output_type": "stream",
     "text": [
      "La variable num toma el siguiente valor:  (1+2j)\n",
      "La variable num es del tipo:  <class 'complex'>\n"
     ]
    }
   ],
   "source": [
    "num = 1+2j\n",
    "print('La variable num toma el siguiente valor: ', num)\n",
    "print('La variable num es del tipo: ', type(num))"
   ]
  },
  {
   "cell_type": "markdown",
   "id": "88c251a7",
   "metadata": {},
   "source": [
    "Python soporta ciertas operaciones de forma nativa con los números complejos:"
   ]
  },
  {
   "cell_type": "code",
   "execution_count": 6,
   "id": "f26fbcfe",
   "metadata": {},
   "outputs": [
    {
     "name": "stdout",
     "output_type": "stream",
     "text": [
      " La suma de a + b es:  (3+7.8j)\n"
     ]
    }
   ],
   "source": [
    "a = 1 + 2j\n",
    "b = 2 + 5.8j\n",
    "print(' La suma de a + b es: ', a+b)"
   ]
  },
  {
   "cell_type": "code",
   "execution_count": 7,
   "id": "701d0149",
   "metadata": {},
   "outputs": [
    {
     "name": "stdout",
     "output_type": "stream",
     "text": [
      "El conjugado de a vale:  (1-2j)\n"
     ]
    }
   ],
   "source": [
    "print('El conjugado de a vale: ', a.conjugate())"
   ]
  },
  {
   "cell_type": "markdown",
   "id": "2fd6b7d2",
   "metadata": {},
   "source": [
    "Fácilmente podemos obtener la parte real e imaginaria"
   ]
  },
  {
   "cell_type": "code",
   "execution_count": 8,
   "id": "9a8f0c7c",
   "metadata": {},
   "outputs": [
    {
     "name": "stdout",
     "output_type": "stream",
     "text": [
      "La parte real de a es  1.0  y la parte imaginaria es  2.0\n"
     ]
    }
   ],
   "source": [
    "print('La parte real de a es ', a.real, ' y la parte imaginaria es ', a.imag)"
   ]
  },
  {
   "cell_type": "markdown",
   "id": "37005b19",
   "metadata": {},
   "source": [
    "Notar la diferencia entre el **método** `conjugate` y la **propiedad**\n",
    "`real` y la **propiedad** `imag`. Mientras que `conjugate` se comporta como una función propia de número complejo y debemos llamarla usando paréntesis, `imag` y `real` se comportan como datos (o variables) del número complejo y se obtienen sin utilizar el paréntesis."
   ]
  },
  {
   "cell_type": "markdown",
   "id": "679c38cc",
   "metadata": {},
   "source": [
    "## Listas\n",
    "\n",
    "Ejemplo de lista, se acumulan con un patron"
   ]
  },
  {
   "cell_type": "code",
   "execution_count": 9,
   "id": "46390dab",
   "metadata": {},
   "outputs": [
    {
     "data": {
      "text/plain": [
       "[4, 1, 9, 4, 9]"
      ]
     },
     "execution_count": 9,
     "metadata": {},
     "output_type": "execute_result"
    }
   ],
   "source": [
    "inputs = [2, 1, 3, 2, 4, 3, 6]\n",
    "result = []  # Comenzamos con una lista vacía\n",
    "for i in inputs:  # Iteramos sobre la lista inputs\n",
    "    if i < 4:  # si se cumple esta condición agregamos a result\n",
    "        result.append(i**2)\n",
    "\n",
    "result"
   ]
  },
  {
   "cell_type": "markdown",
   "id": "05849b86",
   "metadata": {},
   "source": [
    "Es común ver en Python incluya una sintaxis algo diferente del `for`\n",
    "y el `if` cuando se tiene que ejecutar una sola línea. El siguiente es un\n",
    "ejemplo con ambos cosas."
   ]
  },
  {
   "cell_type": "code",
   "execution_count": 10,
   "id": "01ffbc29",
   "metadata": {},
   "outputs": [
    {
     "data": {
      "text/plain": [
       "[4, 1, 9, 4, 9, 1]"
      ]
     },
     "execution_count": 10,
     "metadata": {},
     "output_type": "execute_result"
    }
   ],
   "source": [
    "result = [i**2 for i in inputs if i < 4]\n",
    "result.append(1)\n",
    "result"
   ]
  },
  {
   "cell_type": "markdown",
   "id": "248bbb86",
   "metadata": {},
   "source": [
    "## Diccionarios\n",
    "\n",
    "Una vez familiarizado con las listas, vemos los diccionarios, que son otro\n",
    "tipo de contenedores ordenados."
   ]
  },
  {
   "cell_type": "code",
   "execution_count": 11,
   "id": "4b6039f1",
   "metadata": {},
   "outputs": [],
   "source": [
    "lst = [1, 2, 3]"
   ]
  },
  {
   "cell_type": "markdown",
   "id": "bb285897",
   "metadata": {},
   "source": [
    "Podemos recuperar elementos de la lista mediante _indexado_"
   ]
  },
  {
   "cell_type": "code",
   "execution_count": 12,
   "id": "a0e42227",
   "metadata": {},
   "outputs": [
    {
     "data": {
      "text/plain": [
       "2"
      ]
     },
     "execution_count": 12,
     "metadata": {},
     "output_type": "execute_result"
    }
   ],
   "source": [
    "lst[1]"
   ]
  },
  {
   "cell_type": "markdown",
   "id": "aacfae55",
   "metadata": {},
   "source": [
    "Un diccionario nos da un contenedor como una lista, pero los índices pueden\n",
    "ser mucho más generales, no solo números, sino cadenas o variables de\n",
    "cualquier tipo, como por ejemplo `sympy` (y una gran cantidad de otros tipos)"
   ]
  },
  {
   "cell_type": "code",
   "execution_count": 13,
   "id": "5eaa1618",
   "metadata": {},
   "outputs": [
    {
     "name": "stdout",
     "output_type": "stream",
     "text": [
      "100 45\n"
     ]
    }
   ],
   "source": [
    "dic = {'a': 100, 2: 45, 100: 45}\n",
    "print(dic['a'], dic[2])"
   ]
  },
  {
   "cell_type": "code",
   "execution_count": 14,
   "id": "da724d56",
   "metadata": {
    "tags": [
     "raises-exception"
    ]
   },
   "outputs": [
    {
     "ename": "KeyError",
     "evalue": "0",
     "output_type": "error",
     "traceback": [
      "\u001b[0;31m---------------------------------------------------------------------------\u001b[0m",
      "\u001b[0;31mKeyError\u001b[0m                                  Traceback (most recent call last)",
      "Input \u001b[0;32mIn [14]\u001b[0m, in \u001b[0;36m<cell line: 1>\u001b[0;34m()\u001b[0m\n\u001b[0;32m----> 1\u001b[0m \u001b[38;5;28mprint\u001b[39m(\u001b[43mdic\u001b[49m\u001b[43m[\u001b[49m\u001b[38;5;241;43m0\u001b[39;49m\u001b[43m]\u001b[49m)\n",
      "\u001b[0;31mKeyError\u001b[0m: 0"
     ]
    }
   ],
   "source": [
    "print(dic[0])"
   ]
  },
  {
   "cell_type": "markdown",
   "id": "252fa2d7",
   "metadata": {},
   "source": [
    "## Tuplas\n",
    "\n",
    "Finalmente, otro contenedor es la tupla:"
   ]
  },
  {
   "cell_type": "code",
   "execution_count": 15,
   "id": "04b074e2",
   "metadata": {},
   "outputs": [],
   "source": [
    "x = 1, 2, 3\n",
    "a, b, c = x\n",
    "d, e, f = 4, 5, 6"
   ]
  },
  {
   "cell_type": "code",
   "execution_count": 16,
   "id": "c24fd8b3",
   "metadata": {},
   "outputs": [
    {
     "name": "stdout",
     "output_type": "stream",
     "text": [
      "2\n"
     ]
    }
   ],
   "source": [
    "def f(x):\n",
    "    Ca, Cb, Cc = x\n",
    "    return Cb\n",
    "\n",
    "\n",
    "k = f(x)\n",
    "print(k)"
   ]
  },
  {
   "cell_type": "code",
   "execution_count": 17,
   "id": "a8de0851",
   "metadata": {},
   "outputs": [
    {
     "data": {
      "text/plain": [
       "list"
      ]
     },
     "execution_count": 17,
     "metadata": {},
     "output_type": "execute_result"
    }
   ],
   "source": [
    "li = [1, 2, 3, 4]\n",
    "type(li)"
   ]
  },
  {
   "cell_type": "markdown",
   "id": "95166a9e",
   "metadata": {},
   "source": [
    "Las tuplas son como listas, pero se crean con comas:"
   ]
  },
  {
   "cell_type": "code",
   "execution_count": 18,
   "id": "38023be3",
   "metadata": {},
   "outputs": [
    {
     "data": {
      "text/plain": [
       "tuple"
      ]
     },
     "execution_count": 18,
     "metadata": {},
     "output_type": "execute_result"
    }
   ],
   "source": [
    "t = 1, 2, 3, 4\n",
    "type(t)"
   ]
  },
  {
   "cell_type": "markdown",
   "id": "94760305",
   "metadata": {},
   "source": [
    "En algunos casos, es útil usar paréntesis para agrupar tuplas, pero tenga en\n",
    "cuenta que no son requerimientos en la sintaxis:"
   ]
  },
  {
   "cell_type": "code",
   "execution_count": 19,
   "id": "10ab5383",
   "metadata": {},
   "outputs": [
    {
     "data": {
      "text/plain": [
       "tuple"
      ]
     },
     "execution_count": 19,
     "metadata": {},
     "output_type": "execute_result"
    }
   ],
   "source": [
    "t2 = (1, 2, 3, 4)\n",
    "type(t2)"
   ]
  },
  {
   "cell_type": "markdown",
   "id": "9a8a7a96",
   "metadata": {},
   "source": [
    "Es importante entender que la coma, no los paréntesis forman tuplas:"
   ]
  },
  {
   "cell_type": "code",
   "execution_count": 20,
   "id": "914260a5",
   "metadata": {},
   "outputs": [
    {
     "data": {
      "text/plain": [
       "int"
      ]
     },
     "execution_count": 20,
     "metadata": {},
     "output_type": "execute_result"
    }
   ],
   "source": [
    "only_one = (((((((1)))))))\n",
    "type(only_one)"
   ]
  },
  {
   "cell_type": "code",
   "execution_count": 21,
   "id": "c47dedbc",
   "metadata": {},
   "outputs": [
    {
     "data": {
      "text/plain": [
       "tuple"
      ]
     },
     "execution_count": 21,
     "metadata": {},
     "output_type": "execute_result"
    }
   ],
   "source": [
    "only_one = 1,\n",
    "type(only_one)"
   ]
  },
  {
   "cell_type": "code",
   "execution_count": 22,
   "id": "bac13110",
   "metadata": {},
   "outputs": [
    {
     "data": {
      "text/plain": [
       "1"
      ]
     },
     "execution_count": 22,
     "metadata": {},
     "output_type": "execute_result"
    }
   ],
   "source": [
    "len(only_one)"
   ]
  },
  {
   "cell_type": "markdown",
   "id": "826745fa",
   "metadata": {},
   "source": [
    "La única excepción a esta regla es que una tupla vacía se construye con `()`:"
   ]
  },
  {
   "cell_type": "code",
   "execution_count": 23,
   "id": "bba08fa9",
   "metadata": {},
   "outputs": [
    {
     "data": {
      "text/plain": [
       "tuple"
      ]
     },
     "execution_count": 23,
     "metadata": {},
     "output_type": "execute_result"
    }
   ],
   "source": [
    "empty = ()\n",
    "type(empty)"
   ]
  },
  {
   "cell_type": "code",
   "execution_count": 24,
   "id": "95ac881a",
   "metadata": {},
   "outputs": [
    {
     "data": {
      "text/plain": [
       "0"
      ]
     },
     "execution_count": 24,
     "metadata": {},
     "output_type": "execute_result"
    }
   ],
   "source": [
    "len(empty)"
   ]
  },
  {
   "cell_type": "markdown",
   "id": "438bac33",
   "metadata": {},
   "source": [
    "Las diferencias entre las tuplas y las listas son que las tuplas son\n",
    "inmutables (no se pueden cambiar \"inplace\")"
   ]
  },
  {
   "cell_type": "code",
   "execution_count": 25,
   "id": "4257e365",
   "metadata": {},
   "outputs": [
    {
     "data": {
      "text/plain": [
       "[1, 2, 3, 4, 1]"
      ]
     },
     "execution_count": 25,
     "metadata": {},
     "output_type": "execute_result"
    }
   ],
   "source": [
    "li.append(1)\n",
    "li"
   ]
  },
  {
   "cell_type": "markdown",
   "id": "120ec1f7",
   "metadata": {},
   "source": [
    "Pero si ejecutamos"
   ]
  },
  {
   "cell_type": "code",
   "execution_count": 26,
   "id": "b8c6b9ae",
   "metadata": {
    "tags": [
     "raises-exception"
    ]
   },
   "outputs": [
    {
     "ename": "AttributeError",
     "evalue": "'tuple' object has no attribute 'append'",
     "output_type": "error",
     "traceback": [
      "\u001b[0;31m---------------------------------------------------------------------------\u001b[0m",
      "\u001b[0;31mAttributeError\u001b[0m                            Traceback (most recent call last)",
      "Input \u001b[0;32mIn [26]\u001b[0m, in \u001b[0;36m<cell line: 1>\u001b[0;34m()\u001b[0m\n\u001b[0;32m----> 1\u001b[0m \u001b[43mt\u001b[49m\u001b[38;5;241;43m.\u001b[39;49m\u001b[43mappend\u001b[49m(\u001b[38;5;241m1\u001b[39m)\n",
      "\u001b[0;31mAttributeError\u001b[0m: 'tuple' object has no attribute 'append'"
     ]
    }
   ],
   "source": [
    "t.append(1)"
   ]
  },
  {
   "cell_type": "markdown",
   "id": "52575513",
   "metadata": {},
   "source": [
    "### Expansión de la tupla\n",
    "\n",
    "Una característica muy útil y general del operador de asignación en Python es\n",
    "que las tuplas se expandirán y asignarán en patrones coincidentes:"
   ]
  },
  {
   "cell_type": "code",
   "execution_count": 27,
   "id": "f00ef838",
   "metadata": {},
   "outputs": [],
   "source": [
    "a, b = 1, 2"
   ]
  },
  {
   "cell_type": "markdown",
   "id": "b5f232f0",
   "metadata": {},
   "source": [
    "Esto es bastante sofisticado y puede manejar estructuras anidadas y\n",
    "expandirse a listas:"
   ]
  },
  {
   "cell_type": "code",
   "execution_count": 28,
   "id": "9f192fce",
   "metadata": {},
   "outputs": [],
   "source": [
    "[(a, b,), c, d] = [(1, 2), 1, 4]\n",
    "[f, g, h] = [(1, 2), 1, 4]"
   ]
  },
  {
   "cell_type": "code",
   "execution_count": 29,
   "id": "dc756d8c",
   "metadata": {},
   "outputs": [
    {
     "name": "stdout",
     "output_type": "stream",
     "text": [
      "(1, 2)\n",
      "((1, 2), 3)\n",
      "(1, 2, 3)\n"
     ]
    }
   ],
   "source": [
    "f = 1, 2\n",
    "print(f)\n",
    "g = f, 3\n",
    "print(g)\n",
    "h = f[0], f[1], 3\n",
    "print(h)"
   ]
  },
  {
   "cell_type": "markdown",
   "id": "37def3b3",
   "metadata": {},
   "source": [
    "## El bucle for en Python\n",
    "\n",
    "Como resumen en Python el bucle `for` lo que hace es recorrer los elementos de\n",
    "objeto del tipo \"iterable\". Por ejemplo una lista, un diccionario o un array\n",
    "de numpy son iterables.\n",
    "\n",
    "Para una lista:"
   ]
  },
  {
   "cell_type": "code",
   "execution_count": 30,
   "id": "c5096bcf",
   "metadata": {},
   "outputs": [
    {
     "name": "stdout",
     "output_type": "stream",
     "text": [
      "1\n",
      "2\n",
      "3.0\n",
      "hola\n"
     ]
    }
   ],
   "source": [
    "lista_variada = [1, 2, 3., \"hola\"]\n",
    "for e in lista_variada:\n",
    "    print(e)"
   ]
  },
  {
   "cell_type": "markdown",
   "id": "814cd53c",
   "metadata": {},
   "source": [
    "Para un diccionario,  va a devolver en cada iteración la `key` es decir:"
   ]
  },
  {
   "cell_type": "code",
   "execution_count": 31,
   "id": "bae1dd2d",
   "metadata": {},
   "outputs": [],
   "source": [
    "mi_diccionario = {\"el_1\": \"Primer item\", 2: \"segundo item\", \"3\": 45*3.2}"
   ]
  },
  {
   "cell_type": "code",
   "execution_count": 32,
   "id": "56135b6d",
   "metadata": {},
   "outputs": [
    {
     "name": "stdout",
     "output_type": "stream",
     "text": [
      "La key es de tipo  <class 'str'> y es  el_1\n",
      "El items de tipo  <class 'str'> y es  Primer item\n",
      "La key es de tipo  <class 'int'> y es  2\n",
      "El items de tipo  <class 'str'> y es  segundo item\n",
      "La key es de tipo  <class 'str'> y es  3\n",
      "El items de tipo  <class 'float'> y es  144.0\n"
     ]
    }
   ],
   "source": [
    "for key in mi_diccionario:\n",
    "    print(\"La key es de tipo \", type(key), \"y es \", key)\n",
    "    print(\"El items de tipo \", type(mi_diccionario[key]),\n",
    "          \"y es \", mi_diccionario[key])"
   ]
  },
  {
   "cell_type": "markdown",
   "id": "6f4aba04",
   "metadata": {},
   "source": [
    "Finalmente para un `array` de `numpy` me va a devolver cada elemento del\n",
    "array"
   ]
  },
  {
   "cell_type": "code",
   "execution_count": 33,
   "id": "99154efc",
   "metadata": {},
   "outputs": [
    {
     "name": "stdout",
     "output_type": "stream",
     "text": [
      "Elemento al cuadrado 1.0\n",
      "Elemento al cuadrado 28056.25\n",
      "Elemento al cuadrado 111556.0\n",
      "Elemento al cuadrado 250500.25\n",
      "Elemento al cuadrado 444889.0\n",
      "Elemento al cuadrado 694722.25\n",
      "Elemento al cuadrado 1000000.0\n"
     ]
    }
   ],
   "source": [
    "import numpy as np\n",
    "\n",
    "n = np.linspace(1, 1000, 7)\n",
    "for i in n:\n",
    "    print(\"Elemento al cuadrado\", i**2)"
   ]
  },
  {
   "cell_type": "markdown",
   "id": "c6a383b2",
   "metadata": {},
   "source": [
    "## Funciones\n",
    "\n",
    "Las funciones en Python se definen a partir de la palabra calve `def`.\n",
    "Pueden tomar argumentos posicionales, y argumentos con nombres y con valores por defecto. El siguiente es un ejemplo."
   ]
  },
  {
   "cell_type": "code",
   "execution_count": 34,
   "id": "aacd5d0a",
   "metadata": {},
   "outputs": [],
   "source": [
    "def cambio_de_escala(x, m=1, h=0):\n",
    "    y = [i*m+h for i in x]\n",
    "    return y"
   ]
  },
  {
   "cell_type": "markdown",
   "id": "9e780409",
   "metadata": {},
   "source": [
    "El argumento x es un argumento posicional y es obligatorio a la hora\n",
    "de llamar a la función `cambio_de_escala`. Los otros dos, pueden estar o no\n",
    "presentes a la hora de llamar. Si no están presentes, usan el valor por defecto\n",
    "definido en la función."
   ]
  },
  {
   "cell_type": "code",
   "execution_count": 35,
   "id": "9f5af22d",
   "metadata": {},
   "outputs": [
    {
     "name": "stdout",
     "output_type": "stream",
     "text": [
      "[1, 2, 3, 4, 5]\n"
     ]
    }
   ],
   "source": [
    "x = [1, 2, 3, 4, 5]\n",
    "x1 = cambio_de_escala(x)\n",
    "print(x1)"
   ]
  },
  {
   "cell_type": "markdown",
   "id": "00444646",
   "metadata": {},
   "source": [
    "Podemos ver que asumió que `m=0` y `h=1`. También podríamos llamarla a la\n",
    "función de la siguiente manera:"
   ]
  },
  {
   "cell_type": "code",
   "execution_count": 36,
   "id": "527e390c",
   "metadata": {},
   "outputs": [
    {
     "name": "stdout",
     "output_type": "stream",
     "text": [
      "[3, 5, 7, 9, 11]\n"
     ]
    }
   ],
   "source": [
    "x2 = cambio_de_escala(x, m=2, h=1)\n",
    "print(x2)"
   ]
  },
  {
   "cell_type": "markdown",
   "id": "66ea52bb",
   "metadata": {},
   "source": [
    "O lo que es lo mismo:"
   ]
  },
  {
   "cell_type": "code",
   "execution_count": 37,
   "id": "d4e04ca2",
   "metadata": {},
   "outputs": [
    {
     "name": "stdout",
     "output_type": "stream",
     "text": [
      "[3, 5, 7, 9, 11]\n"
     ]
    }
   ],
   "source": [
    "x2 = cambio_de_escala(x, h=1, m=2)\n",
    "print(x2)"
   ]
  },
  {
   "cell_type": "markdown",
   "id": "8cf1d866",
   "metadata": {},
   "source": [
    "O equivalentemente:"
   ]
  },
  {
   "cell_type": "code",
   "execution_count": 38,
   "id": "69240d5d",
   "metadata": {},
   "outputs": [
    {
     "name": "stdout",
     "output_type": "stream",
     "text": [
      "[3, 4, 5, 6, 7]\n"
     ]
    }
   ],
   "source": [
    "x2 = cambio_de_escala(x, 1, 2)\n",
    "print(x2)"
   ]
  },
  {
   "cell_type": "markdown",
   "id": "90d70e3e",
   "metadata": {},
   "source": [
    "Pero si intentamos sin darle valores a `x` tendremos:"
   ]
  },
  {
   "cell_type": "code",
   "execution_count": 39,
   "id": "bd0db8d7",
   "metadata": {
    "tags": [
     "raises-exception"
    ]
   },
   "outputs": [
    {
     "ename": "TypeError",
     "evalue": "cambio_de_escala() missing 1 required positional argument: 'x'",
     "output_type": "error",
     "traceback": [
      "\u001b[0;31m---------------------------------------------------------------------------\u001b[0m",
      "\u001b[0;31mTypeError\u001b[0m                                 Traceback (most recent call last)",
      "Input \u001b[0;32mIn [39]\u001b[0m, in \u001b[0;36m<cell line: 1>\u001b[0;34m()\u001b[0m\n\u001b[0;32m----> 1\u001b[0m x3 \u001b[38;5;241m=\u001b[39m \u001b[43mcambio_de_escala\u001b[49m\u001b[43m(\u001b[49m\u001b[43mm\u001b[49m\u001b[38;5;241;43m=\u001b[39;49m\u001b[38;5;241;43m1\u001b[39;49m\u001b[43m,\u001b[49m\u001b[43m \u001b[49m\u001b[43mh\u001b[49m\u001b[38;5;241;43m=\u001b[39;49m\u001b[38;5;241;43m2\u001b[39;49m\u001b[43m)\u001b[49m\n\u001b[1;32m      2\u001b[0m \u001b[38;5;28mprint\u001b[39m(x3)\n",
      "\u001b[0;31mTypeError\u001b[0m: cambio_de_escala() missing 1 required positional argument: 'x'"
     ]
    }
   ],
   "source": [
    "x3 = cambio_de_escala(m=1, h=2)\n",
    "print(x3)"
   ]
  }
 ],
 "metadata": {
  "jupytext": {
   "encoding": "# -*- coding: utf-8 -*-",
   "formats": "md:myst,ipynb",
   "text_representation": {
    "extension": ".md",
    "format_name": "myst",
    "format_version": 0.13,
    "jupytext_version": "1.13.7"
   }
  },
  "kernelspec": {
   "display_name": "Python 3 (ipykernel)",
   "language": "python",
   "name": "python3"
  },
  "language_info": {
   "codemirror_mode": {
    "name": "ipython",
    "version": 3
   },
   "file_extension": ".py",
   "mimetype": "text/x-python",
   "name": "python",
   "nbconvert_exporter": "python",
   "pygments_lexer": "ipython3",
   "version": "3.10.2"
  },
  "source_map": [
   14,
   24,
   35,
   38,
   46,
   49,
   54,
   57,
   61,
   64,
   71,
   75,
   79,
   85,
   87,
   91,
   93,
   98,
   104,
   112,
   118,
   122,
   129,
   131,
   135,
   137,
   143,
   148,
   152,
   158,
   164,
   174,
   177,
   181,
   184,
   189,
   192,
   196,
   201,
   206,
   208,
   212,
   217,
   219,
   224,
   227,
   231,
   235,
   242,
   244,
   249,
   254,
   261,
   271,
   275,
   279,
   283,
   288,
   293,
   299,
   306,
   310,
   317,
   321,
   326,
   329,
   333,
   336,
   340,
   343,
   347
  ]
 },
 "nbformat": 4,
 "nbformat_minor": 5
}